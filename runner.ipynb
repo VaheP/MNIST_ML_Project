{
 "cells": [
  {
   "cell_type": "code",
   "execution_count": 1,
   "id": "initial_id",
   "metadata": {
    "collapsed": true,
    "ExecuteTime": {
     "end_time": "2024-05-12T20:17:00.382155Z",
     "start_time": "2024-05-12T20:16:59.176757Z"
    }
   },
   "outputs": [],
   "source": [
    "from data_handler import DataHandler\n",
    "from models import RandomForestModel, LogisticRegressionModel, KNNModel, SVMModel, BaggingModel, AdaBoostModel, XGBoostModel\n",
    "from trainer import Trainer\n",
    "import config\n",
    "import warnings"
   ]
  },
  {
   "cell_type": "code",
   "outputs": [],
   "source": [
    "warnings.filterwarnings('ignore')"
   ],
   "metadata": {
    "collapsed": false,
    "ExecuteTime": {
     "end_time": "2024-05-12T20:17:00.385145Z",
     "start_time": "2024-05-12T20:17:00.383359Z"
    }
   },
   "id": "65b8f739bb370929",
   "execution_count": 2
  },
  {
   "cell_type": "code",
   "outputs": [],
   "source": [
    "data_handler = DataHandler(config.DATA_PATH, config.DATA_PATH_TEST)\n",
    "data_handler.load_data()\n",
    "data_handler.split_data()\n",
    "data_handler.preprocess_data()"
   ],
   "metadata": {
    "collapsed": false,
    "ExecuteTime": {
     "end_time": "2024-05-12T20:17:11.831675Z",
     "start_time": "2024-05-12T20:17:00.385741Z"
    }
   },
   "id": "daf94430dc95c1ea",
   "execution_count": 3
  },
  {
   "cell_type": "markdown",
   "source": [
    "## Random Forest Model"
   ],
   "metadata": {
    "collapsed": false
   },
   "id": "1e2b498351169ba1"
  },
  {
   "cell_type": "code",
   "outputs": [],
   "source": [
    "rand_f_model = RandomForestModel(**config.MODEL_PARAMS['random_forest'])\n",
    "rand_f_trainer = Trainer(rand_f_model)\n",
    "\n",
    "rand_f_trainer.train(data_handler.X_train, data_handler.y_train)"
   ],
   "metadata": {
    "collapsed": false,
    "ExecuteTime": {
     "end_time": "2024-05-12T20:18:04.398902Z",
     "start_time": "2024-05-12T20:17:11.835435Z"
    }
   },
   "id": "d053acd5aee12ade",
   "execution_count": 4
  },
  {
   "cell_type": "markdown",
   "source": [
    "#### Evaluating the model on the test data"
   ],
   "metadata": {
    "collapsed": false
   },
   "id": "604115705e4d5eed"
  },
  {
   "cell_type": "code",
   "outputs": [
    {
     "data": {
      "text/plain": "{'precision': 0.8227604800490858,\n 'recall': 0.8241999999999999,\n 'f1': 0.8200326046256479,\n 'accuracy': 0.8242,\n 'roc_auc': 0.9023333333333332}"
     },
     "execution_count": 5,
     "metadata": {},
     "output_type": "execute_result"
    }
   ],
   "source": [
    "rand_f_trainer.evaluate(data_handler.X_test, data_handler.y_test)"
   ],
   "metadata": {
    "collapsed": false,
    "ExecuteTime": {
     "end_time": "2024-05-12T20:18:04.498304Z",
     "start_time": "2024-05-12T20:18:04.400880Z"
    }
   },
   "id": "c0c8a3a9ca34c720",
   "execution_count": 5
  },
  {
   "cell_type": "markdown",
   "source": [
    "#### Evaluating the model on the train data"
   ],
   "metadata": {
    "collapsed": false
   },
   "id": "d28f64a3ad62e3a9"
  },
  {
   "cell_type": "code",
   "outputs": [
    {
     "data": {
      "text/plain": "{'precision': 0.8613971446019754,\n 'recall': 0.86065,\n 'f1': 0.8583732400619779,\n 'accuracy': 0.86065,\n 'roc_auc': 0.9225833333333332}"
     },
     "execution_count": 6,
     "metadata": {},
     "output_type": "execute_result"
    }
   ],
   "source": [
    "rand_f_trainer.evaluate(data_handler.X_train, data_handler.y_train)"
   ],
   "metadata": {
    "collapsed": false,
    "ExecuteTime": {
     "end_time": "2024-05-12T20:18:04.998358Z",
     "start_time": "2024-05-12T20:18:04.499001Z"
    }
   },
   "id": "96374b515b6fe064",
   "execution_count": 6
  },
  {
   "cell_type": "markdown",
   "source": [
    "# Logistic Regression Model"
   ],
   "metadata": {
    "collapsed": false
   },
   "id": "4d83aabf6eeacc0c"
  },
  {
   "cell_type": "code",
   "outputs": [],
   "source": [
    "log_reg_model = LogisticRegressionModel(**config.MODEL_PARAMS['logistic_regression'])\n",
    "log_reg_trainer = Trainer(log_reg_model)\n",
    "\n",
    "log_reg_trainer.train(data_handler.X_train, data_handler.y_train)"
   ],
   "metadata": {
    "collapsed": false,
    "ExecuteTime": {
     "end_time": "2024-05-12T20:21:12.979881Z",
     "start_time": "2024-05-12T20:18:04.999320Z"
    }
   },
   "id": "313e220fc8f5b8c5",
   "execution_count": 7
  },
  {
   "cell_type": "markdown",
   "source": [
    "#### Evaluating the model on the test data"
   ],
   "metadata": {
    "collapsed": false
   },
   "id": "e78d4b07b00c2727"
  },
  {
   "cell_type": "code",
   "outputs": [
    {
     "data": {
      "text/plain": "{'precision': 0.8570096053780674,\n 'recall': 0.8584999999999999,\n 'f1': 0.8576099108558919,\n 'accuracy': 0.8585,\n 'roc_auc': 0.9213888888888888}"
     },
     "execution_count": 8,
     "metadata": {},
     "output_type": "execute_result"
    }
   ],
   "source": [
    "log_reg_trainer.evaluate(data_handler.X_test, data_handler.y_test)"
   ],
   "metadata": {
    "collapsed": false,
    "ExecuteTime": {
     "end_time": "2024-05-12T20:21:13.045773Z",
     "start_time": "2024-05-12T20:21:12.983854Z"
    }
   },
   "id": "8d5f0669e6358911",
   "execution_count": 8
  },
  {
   "cell_type": "markdown",
   "source": [
    "#### Evaluating the model on the train data"
   ],
   "metadata": {
    "collapsed": false
   },
   "id": "49ead6a66a661ccc"
  },
  {
   "cell_type": "code",
   "outputs": [
    {
     "data": {
      "text/plain": "{'precision': 0.8648031893880063,\n 'recall': 0.8658333333333333,\n 'f1': 0.8650701022548735,\n 'accuracy': 0.8658333333333333,\n 'roc_auc': 0.9254629629629629}"
     },
     "execution_count": 9,
     "metadata": {},
     "output_type": "execute_result"
    }
   ],
   "source": [
    "log_reg_trainer.evaluate(data_handler.X_train, data_handler.y_train)"
   ],
   "metadata": {
    "collapsed": false,
    "ExecuteTime": {
     "end_time": "2024-05-12T20:21:13.221002Z",
     "start_time": "2024-05-12T20:21:13.049522Z"
    }
   },
   "id": "29a152bd3e8b8942",
   "execution_count": 9
  },
  {
   "cell_type": "markdown",
   "source": [
    "# KNN Model"
   ],
   "metadata": {
    "collapsed": false
   },
   "id": "ba4564a6fea0bd1a"
  },
  {
   "cell_type": "code",
   "outputs": [],
   "source": [
    "knn_model = KNNModel(**config.MODEL_PARAMS['knn'])\n",
    "knn_trainer = Trainer(knn_model)\n",
    "\n",
    "knn_trainer.train(data_handler.X_train, data_handler.y_train)"
   ],
   "metadata": {
    "collapsed": false,
    "ExecuteTime": {
     "end_time": "2024-05-12T20:21:13.245038Z",
     "start_time": "2024-05-12T20:21:13.228321Z"
    }
   },
   "id": "7f3a002f619f9252",
   "execution_count": 10
  },
  {
   "cell_type": "markdown",
   "source": [
    "#### Evaluating the model on the test data"
   ],
   "metadata": {
    "collapsed": false
   },
   "id": "21995bb5eab3d02c"
  },
  {
   "cell_type": "code",
   "outputs": [
    {
     "data": {
      "text/plain": "{'precision': 0.8710089050994853,\n 'recall': 0.8696999999999999,\n 'f1': 0.8697556138054349,\n 'accuracy': 0.8697,\n 'roc_auc': 0.9276111111111109}"
     },
     "execution_count": 11,
     "metadata": {},
     "output_type": "execute_result"
    }
   ],
   "source": [
    "knn_trainer.evaluate(data_handler.X_test, data_handler.y_test)"
   ],
   "metadata": {
    "collapsed": false,
    "ExecuteTime": {
     "end_time": "2024-05-12T20:21:14.531570Z",
     "start_time": "2024-05-12T20:21:13.259803Z"
    }
   },
   "id": "73e682555bce4d65",
   "execution_count": 11
  },
  {
   "cell_type": "markdown",
   "source": [
    "#### Evaluating the model on the train data"
   ],
   "metadata": {
    "collapsed": false
   },
   "id": "85cb5bf0d2a197cd"
  },
  {
   "cell_type": "code",
   "outputs": [
    {
     "data": {
      "text/plain": "{'precision': 1.0, 'recall': 1.0, 'f1': 1.0, 'accuracy': 1.0, 'roc_auc': 1.0}"
     },
     "execution_count": 12,
     "metadata": {},
     "output_type": "execute_result"
    }
   ],
   "source": [
    "knn_trainer.evaluate(data_handler.X_train, data_handler.y_train)"
   ],
   "metadata": {
    "collapsed": false,
    "ExecuteTime": {
     "end_time": "2024-05-12T20:21:19.451365Z",
     "start_time": "2024-05-12T20:21:14.532730Z"
    }
   },
   "id": "1835329b2446133",
   "execution_count": 12
  },
  {
   "cell_type": "markdown",
   "source": [
    "## SVM Model"
   ],
   "metadata": {
    "collapsed": false
   },
   "id": "f3d3a8381c73f97a"
  },
  {
   "cell_type": "code",
   "outputs": [],
   "source": [
    "svm_model = SVMModel(**config.MODEL_PARAMS['svm'])\n",
    "svm_trainer = Trainer(svm_model)\n",
    "\n",
    "svm_trainer.train(data_handler.X_train, data_handler.y_train)"
   ],
   "metadata": {
    "collapsed": false,
    "ExecuteTime": {
     "end_time": "2024-05-12T21:00:57.629044Z",
     "start_time": "2024-05-12T20:47:53.634710Z"
    }
   },
   "id": "a3b439bd9376a32c",
   "execution_count": 32
  },
  {
   "cell_type": "markdown",
   "source": [
    "#### Evaluating the model on the test dataes"
   ],
   "metadata": {
    "collapsed": false
   },
   "id": "c84e28c7e9081aab"
  },
  {
   "cell_type": "code",
   "outputs": [
    {
     "data": {
      "text/plain": "{'precision': 0.8726269840201184,\n 'recall': 0.8576,\n 'f1': 0.8595499950477622,\n 'accuracy': 0.8576,\n 'roc_auc': 0.9208888888888888}"
     },
     "execution_count": 33,
     "metadata": {},
     "output_type": "execute_result"
    }
   ],
   "source": [
    "svm_trainer.evaluate(data_handler.X_test, data_handler.y_test)"
   ],
   "metadata": {
    "collapsed": false,
    "ExecuteTime": {
     "end_time": "2024-05-12T21:01:54.197288Z",
     "start_time": "2024-05-12T21:00:57.631007Z"
    }
   },
   "id": "f4070ace991e76e9",
   "execution_count": 33
  },
  {
   "cell_type": "markdown",
   "source": [
    "#### Evaluating the model on the train data"
   ],
   "metadata": {
    "collapsed": false
   },
   "id": "de2e8ee243467a42"
  },
  {
   "cell_type": "code",
   "outputs": [
    {
     "data": {
      "text/plain": "{'precision': 0.9999666722212964,\n 'recall': 0.9999666666666667,\n 'f1': 0.999966665277199,\n 'accuracy': 0.9999666666666667,\n 'roc_auc': 0.9999814814814816}"
     },
     "execution_count": 34,
     "metadata": {},
     "output_type": "execute_result"
    }
   ],
   "source": [
    "svm_trainer.evaluate(data_handler.X_train, data_handler.y_train)"
   ],
   "metadata": {
    "collapsed": false,
    "ExecuteTime": {
     "end_time": "2024-05-12T21:07:34.833708Z",
     "start_time": "2024-05-12T21:01:54.198587Z"
    }
   },
   "id": "92977db711497171",
   "execution_count": 34
  },
  {
   "cell_type": "markdown",
   "source": [
    "## Bagging Model"
   ],
   "metadata": {
    "collapsed": false
   },
   "id": "d91bbb2a034b07c5"
  },
  {
   "cell_type": "code",
   "outputs": [],
   "source": [
    "bagging_model = BaggingModel(**config.MODEL_PARAMS['bagging'])\n",
    "bagging_trainer = Trainer(bagging_model)\n",
    "\n",
    "bagging_trainer.train(data_handler.X_train, data_handler.y_train)"
   ],
   "metadata": {
    "collapsed": false,
    "ExecuteTime": {
     "end_time": "2024-05-12T20:27:28.158094Z",
     "start_time": "2024-05-12T20:27:23.067866Z"
    }
   },
   "id": "9a81337e5b9d86cd",
   "execution_count": 16
  },
  {
   "cell_type": "markdown",
   "source": [
    "#### Evaluating the model on the test data"
   ],
   "metadata": {
    "collapsed": false
   },
   "id": "e0fca8de1a1bceab"
  },
  {
   "cell_type": "code",
   "outputs": [
    {
     "data": {
      "text/plain": "{'precision': 0.8707589105057192,\n 'recall': 0.8695,\n 'f1': 0.8695077848638734,\n 'accuracy': 0.8695,\n 'roc_auc': 0.9274999999999999}"
     },
     "execution_count": 17,
     "metadata": {},
     "output_type": "execute_result"
    }
   ],
   "source": [
    "bagging_trainer.evaluate(data_handler.X_test, data_handler.y_test)"
   ],
   "metadata": {
    "collapsed": false,
    "ExecuteTime": {
     "end_time": "2024-05-12T20:27:38.912569Z",
     "start_time": "2024-05-12T20:27:28.160597Z"
    }
   },
   "id": "967c221e699b9fd4",
   "execution_count": 17
  },
  {
   "cell_type": "markdown",
   "source": [
    "#### Evaluating the model on the train data"
   ],
   "metadata": {
    "collapsed": false
   },
   "id": "92cae7ed93930364"
  },
  {
   "cell_type": "code",
   "outputs": [
    {
     "data": {
      "text/plain": "{'precision': 0.9937876915574944,\n 'recall': 0.9937833333333332,\n 'f1': 0.993780478722709,\n 'accuracy': 0.9937833333333334,\n 'roc_auc': 0.9965462962962963}"
     },
     "execution_count": 18,
     "metadata": {},
     "output_type": "execute_result"
    }
   ],
   "source": [
    "bagging_trainer.evaluate(data_handler.X_train, data_handler.y_train)"
   ],
   "metadata": {
    "collapsed": false,
    "ExecuteTime": {
     "end_time": "2024-05-12T20:28:27.789103Z",
     "start_time": "2024-05-12T20:27:38.913527Z"
    }
   },
   "id": "351e9c27d5f33c84",
   "execution_count": 18
  },
  {
   "cell_type": "markdown",
   "source": [
    "## AdaBoost Model"
   ],
   "metadata": {
    "collapsed": false
   },
   "id": "5d33eae4c6800097"
  },
  {
   "cell_type": "code",
   "outputs": [],
   "source": [
    "ada_boost_model = AdaBoostModel(**config.MODEL_PARAMS['adaboost'])\n",
    "ada_boost_trainer = Trainer(ada_boost_model)\n",
    "\n",
    "ada_boost_trainer.train(data_handler.X_train, data_handler.y_train)"
   ],
   "metadata": {
    "collapsed": false,
    "ExecuteTime": {
     "end_time": "2024-05-12T20:29:42.442540Z",
     "start_time": "2024-05-12T20:28:27.790628Z"
    }
   },
   "id": "fbd94db4eb3af2bc",
   "execution_count": 19
  },
  {
   "cell_type": "markdown",
   "source": [
    "#### Evaluating the model on the test data"
   ],
   "metadata": {
    "collapsed": false
   },
   "id": "b52f8fa82e5c4e6c"
  },
  {
   "cell_type": "code",
   "outputs": [
    {
     "data": {
      "text/plain": "{'precision': 0.6046877847377514,\n 'recall': 0.5828,\n 'f1': 0.5541333917987312,\n 'accuracy': 0.5828,\n 'roc_auc': 0.7682222222222221}"
     },
     "execution_count": 25,
     "metadata": {},
     "output_type": "execute_result"
    }
   ],
   "source": [
    "ada_boost_trainer.evaluate(data_handler.X_test, data_handler.y_test)"
   ],
   "metadata": {
    "collapsed": false,
    "ExecuteTime": {
     "end_time": "2024-05-12T20:30:27.859788Z",
     "start_time": "2024-05-12T20:30:27.704273Z"
    }
   },
   "id": "d39640b735a06ab0",
   "execution_count": 25
  },
  {
   "cell_type": "markdown",
   "source": [
    "#### Evaluating the model on the train data"
   ],
   "metadata": {
    "collapsed": false
   },
   "id": "670fe2fdfae3bf81"
  },
  {
   "cell_type": "code",
   "outputs": [
    {
     "data": {
      "text/plain": "{'precision': 0.6022987020995517,\n 'recall': 0.5805333333333333,\n 'f1': 0.5545004110732009,\n 'accuracy': 0.5805333333333333,\n 'roc_auc': 0.766962962962963}"
     },
     "execution_count": 26,
     "metadata": {},
     "output_type": "execute_result"
    }
   ],
   "source": [
    "ada_boost_trainer.evaluate(data_handler.X_train, data_handler.y_train)"
   ],
   "metadata": {
    "collapsed": false,
    "ExecuteTime": {
     "end_time": "2024-05-12T20:30:30.928717Z",
     "start_time": "2024-05-12T20:30:30.159994Z"
    }
   },
   "id": "d2438edf11e75575",
   "execution_count": 26
  },
  {
   "cell_type": "markdown",
   "source": [
    "## XGBoost Model"
   ],
   "metadata": {
    "collapsed": false
   },
   "id": "f38a4a4c985e0c50"
  },
  {
   "cell_type": "code",
   "outputs": [],
   "source": [
    "xgboost_model = XGBoostModel(**config.MODEL_PARAMS['xgboost'])\n",
    "xgboost_trainer = Trainer(xgboost_model)\n",
    "\n",
    "xgboost_trainer.train(data_handler.X_train, data_handler.y_train)"
   ],
   "metadata": {
    "collapsed": false,
    "ExecuteTime": {
     "end_time": "2024-05-12T20:31:03.377721Z",
     "start_time": "2024-05-12T20:30:46.712055Z"
    }
   },
   "id": "2a6e19851d059c84",
   "execution_count": 28
  },
  {
   "cell_type": "markdown",
   "source": [
    "#### Evaluating the model on the test data"
   ],
   "metadata": {
    "collapsed": false
   },
   "id": "3d9d79e61841225"
  },
  {
   "cell_type": "code",
   "outputs": [
    {
     "data": {
      "text/plain": "{'precision': 0.8843190686844322,\n 'recall': 0.8850000000000001,\n 'f1': 0.8843818201671407,\n 'accuracy': 0.885,\n 'roc_auc': 0.9361111111111112}"
     },
     "execution_count": 29,
     "metadata": {},
     "output_type": "execute_result"
    }
   ],
   "source": [
    "xgboost_trainer.evaluate(data_handler.X_test, data_handler.y_test)"
   ],
   "metadata": {
    "collapsed": false,
    "ExecuteTime": {
     "end_time": "2024-05-12T20:31:03.424162Z",
     "start_time": "2024-05-12T20:31:03.378869Z"
    }
   },
   "id": "d6ec2dae37a5172c",
   "execution_count": 29
  },
  {
   "cell_type": "markdown",
   "source": [
    "#### Evaluating the model on the train data"
   ],
   "metadata": {
    "collapsed": false
   },
   "id": "4409950744008ea0"
  },
  {
   "cell_type": "code",
   "outputs": [
    {
     "data": {
      "text/plain": "{'precision': 1.0, 'recall': 1.0, 'f1': 1.0, 'accuracy': 1.0, 'roc_auc': 1.0}"
     },
     "execution_count": 30,
     "metadata": {},
     "output_type": "execute_result"
    }
   ],
   "source": [
    "xgboost_trainer.evaluate(data_handler.X_train, data_handler.y_train)"
   ],
   "metadata": {
    "collapsed": false,
    "ExecuteTime": {
     "end_time": "2024-05-12T20:31:03.668461Z",
     "start_time": "2024-05-12T20:31:03.424981Z"
    }
   },
   "id": "386b42e2f5292bb9",
   "execution_count": 30
  },
  {
   "cell_type": "code",
   "outputs": [],
   "source": [],
   "metadata": {
    "collapsed": false
   },
   "id": "69a24d5bae427149"
  }
 ],
 "metadata": {
  "kernelspec": {
   "display_name": "Python 3",
   "language": "python",
   "name": "python3"
  },
  "language_info": {
   "codemirror_mode": {
    "name": "ipython",
    "version": 2
   },
   "file_extension": ".py",
   "mimetype": "text/x-python",
   "name": "python",
   "nbconvert_exporter": "python",
   "pygments_lexer": "ipython2",
   "version": "2.7.6"
  }
 },
 "nbformat": 4,
 "nbformat_minor": 5
}
