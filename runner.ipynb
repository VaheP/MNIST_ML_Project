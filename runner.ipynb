{
 "cells": [
  {
   "cell_type": "code",
   "execution_count": 1,
   "id": "initial_id",
   "metadata": {
    "collapsed": true,
    "ExecuteTime": {
     "end_time": "2024-05-12T18:27:43.894085Z",
     "start_time": "2024-05-12T18:27:43.028050Z"
    }
   },
   "outputs": [],
   "source": [
    "from data_handler import DataHandler\n",
    "from models import RandomForestModel\n",
    "from trainer import Trainer\n",
    "import config"
   ]
  },
  {
   "cell_type": "code",
   "outputs": [],
   "source": [
    "data_handler = DataHandler(config.DATA_PATH, config.DATA_PATH_TEST)\n",
    "data_handler.load_data()\n",
    "data_handler.split_data()\n",
    "data_handler.preprocess_data()"
   ],
   "metadata": {
    "collapsed": false,
    "ExecuteTime": {
     "end_time": "2024-05-12T18:29:30.744372Z",
     "start_time": "2024-05-12T18:29:16.494522Z"
    }
   },
   "id": "daf94430dc95c1ea",
   "execution_count": 6
  },
  {
   "cell_type": "markdown",
   "source": [
    "## Random Forest Model"
   ],
   "metadata": {
    "collapsed": false
   },
   "id": "1e2b498351169ba1"
  },
  {
   "cell_type": "code",
   "outputs": [],
   "source": [
    "rand_f_model = RandomForestModel(**config.MODEL_PARAMS['random_forest'])\n",
    "rand_f_trainer = Trainer(rand_f_model)\n",
    "\n",
    "rand_f_trainer.train(data_handler.X_train, data_handler.y_train)"
   ],
   "metadata": {
    "collapsed": false,
    "ExecuteTime": {
     "end_time": "2024-05-12T18:33:12.719172Z",
     "start_time": "2024-05-12T18:32:20.021983Z"
    }
   },
   "id": "d053acd5aee12ade",
   "execution_count": 8
  },
  {
   "cell_type": "markdown",
   "source": [
    "#### Evaluating the model on the test data"
   ],
   "metadata": {
    "collapsed": false
   },
   "id": "604115705e4d5eed"
  },
  {
   "cell_type": "code",
   "outputs": [
    {
     "data": {
      "text/plain": "{'precision': 0.823947046788207,\n 'recall': 0.8256,\n 'f1': 0.8208802206663425,\n 'accuracy': 0.8256,\n 'roc_auc': 0.9031111111111112}"
     },
     "execution_count": 9,
     "metadata": {},
     "output_type": "execute_result"
    }
   ],
   "source": [
    "rand_f_trainer.evaluate(data_handler.X_test, data_handler.y_test)"
   ],
   "metadata": {
    "collapsed": false,
    "ExecuteTime": {
     "end_time": "2024-05-12T18:33:24.338562Z",
     "start_time": "2024-05-12T18:33:24.231022Z"
    }
   },
   "id": "c0c8a3a9ca34c720",
   "execution_count": 9
  },
  {
   "cell_type": "markdown",
   "source": [
    "#### Evaluating the model on the train data"
   ],
   "metadata": {
    "collapsed": false
   },
   "id": "d28f64a3ad62e3a9"
  },
  {
   "cell_type": "code",
   "outputs": [
    {
     "data": {
      "text/plain": "{'precision': 0.8630206412289023,\n 'recall': 0.8621166666666668,\n 'f1': 0.8594046716074553,\n 'accuracy': 0.8621166666666666,\n 'roc_auc': 0.9233981481481482}"
     },
     "execution_count": 10,
     "metadata": {},
     "output_type": "execute_result"
    }
   ],
   "source": [
    "rand_f_trainer.evaluate(data_handler.X_train, data_handler.y_train)"
   ],
   "metadata": {
    "collapsed": false,
    "ExecuteTime": {
     "end_time": "2024-05-12T18:33:37.304885Z",
     "start_time": "2024-05-12T18:33:36.784428Z"
    }
   },
   "id": "96374b515b6fe064",
   "execution_count": 10
  },
  {
   "cell_type": "code",
   "outputs": [],
   "source": [],
   "metadata": {
    "collapsed": false
   },
   "id": "313e220fc8f5b8c5"
  }
 ],
 "metadata": {
  "kernelspec": {
   "display_name": "Python 3",
   "language": "python",
   "name": "python3"
  },
  "language_info": {
   "codemirror_mode": {
    "name": "ipython",
    "version": 2
   },
   "file_extension": ".py",
   "mimetype": "text/x-python",
   "name": "python",
   "nbconvert_exporter": "python",
   "pygments_lexer": "ipython2",
   "version": "2.7.6"
  }
 },
 "nbformat": 4,
 "nbformat_minor": 5
}
