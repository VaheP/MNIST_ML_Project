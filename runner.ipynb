{
 "cells": [
  {
   "cell_type": "code",
   "execution_count": 1,
   "id": "initial_id",
   "metadata": {
    "collapsed": true,
    "ExecuteTime": {
     "end_time": "2024-05-12T18:10:56.346768Z",
     "start_time": "2024-05-12T18:10:55.565379Z"
    }
   },
   "outputs": [],
   "source": [
    "from data_handler import DataHandler\n",
    "from models import RandomForestModel\n",
    "from trainer import Trainer\n",
    "import config"
   ]
  },
  {
   "cell_type": "code",
   "outputs": [],
   "source": [
    "data_handler = DataHandler(config.DATA_PATH, config.DATA_PATH_TEST)\n",
    "data_handler.load_data()\n",
    "data_handler.split_data()"
   ],
   "metadata": {
    "collapsed": false,
    "ExecuteTime": {
     "end_time": "2024-05-12T18:10:58.194848Z",
     "start_time": "2024-05-12T18:10:56.347940Z"
    }
   },
   "id": "daf94430dc95c1ea",
   "execution_count": 2
  },
  {
   "cell_type": "code",
   "outputs": [],
   "source": [
    "data_handler.preprocess_data(pca_count=150)"
   ],
   "metadata": {
    "collapsed": false,
    "ExecuteTime": {
     "end_time": "2024-05-12T18:11:07.996996Z",
     "start_time": "2024-05-12T18:10:59.036927Z"
    }
   },
   "id": "b1e14c0c6964cda7",
   "execution_count": 3
  },
  {
   "cell_type": "code",
   "outputs": [
    {
     "data": {
      "text/plain": "array([[ 10.66497292,  14.99336346,  -0.68946809, ...,   0.87047836,\n         -1.139697  ,  -0.32431986],\n       [-11.98974762,  11.81277013,  -5.80104873, ...,  -0.38134345,\n         -0.33385073,  -0.21399864],\n       [ 20.51767123,   1.57978434,   6.77012222, ...,  -0.09659067,\n          0.27065558,   0.44219135],\n       ...,\n       [  7.14876699,  -0.54356493,  -0.87405957, ...,  -0.1795639 ,\n          0.27185954,  -0.27250624],\n       [  4.43415256,  20.8327043 ,  -0.57630211, ...,   0.51564798,\n          0.53116848,  -0.45708107],\n       [ -9.10680985,  14.83115377,  -3.67467806, ...,  -0.38304237,\n         -0.31841062,   0.94387791]])"
     },
     "execution_count": 4,
     "metadata": {},
     "output_type": "execute_result"
    }
   ],
   "source": [
    "data_handler.X_train"
   ],
   "metadata": {
    "collapsed": false,
    "ExecuteTime": {
     "end_time": "2024-05-12T17:37:48.038364Z",
     "start_time": "2024-05-12T17:37:48.032380Z"
    }
   },
   "id": "d053acd5aee12ade",
   "execution_count": 4
  },
  {
   "cell_type": "code",
   "outputs": [
    {
     "ename": "TypeError",
     "evalue": "RandomForestModel.fit() missing 1 required positional argument: 'y'",
     "output_type": "error",
     "traceback": [
      "\u001B[0;31m---------------------------------------------------------------------------\u001B[0m",
      "\u001B[0;31mTypeError\u001B[0m                                 Traceback (most recent call last)",
      "Cell \u001B[0;32mIn[6], line 3\u001B[0m\n\u001B[1;32m      1\u001B[0m rand_f_model \u001B[38;5;241m=\u001B[39m RandomForestModel(\u001B[38;5;241m*\u001B[39m\u001B[38;5;241m*\u001B[39mconfig\u001B[38;5;241m.\u001B[39mMODEL_PARAMS[\u001B[38;5;124m'\u001B[39m\u001B[38;5;124mrandom_forest\u001B[39m\u001B[38;5;124m'\u001B[39m])\n\u001B[1;32m      2\u001B[0m random_forest_trainer \u001B[38;5;241m=\u001B[39m Trainer(RandomForestModel)\n\u001B[0;32m----> 3\u001B[0m \u001B[43mrandom_forest_trainer\u001B[49m\u001B[38;5;241;43m.\u001B[39;49m\u001B[43mtrain\u001B[49m\u001B[43m(\u001B[49m\u001B[43mdata_handler\u001B[49m\u001B[38;5;241;43m.\u001B[39;49m\u001B[43mX_train\u001B[49m\u001B[43m,\u001B[49m\u001B[43m \u001B[49m\u001B[43mdata_handler\u001B[49m\u001B[38;5;241;43m.\u001B[39;49m\u001B[43my_train\u001B[49m\u001B[43m)\u001B[49m\n",
      "File \u001B[0;32m~/PycharmProjects/ML_HW1/Fashion_MNIST_Project/trainer.py:7\u001B[0m, in \u001B[0;36mtrain\u001B[0;34m(self, X_train, y_train)\u001B[0m\n\u001B[1;32m      6\u001B[0m \u001B[38;5;28;01mdef\u001B[39;00m \u001B[38;5;21m__init__\u001B[39m(\u001B[38;5;28mself\u001B[39m, model):\n\u001B[0;32m----> 7\u001B[0m     \u001B[38;5;28mself\u001B[39m\u001B[38;5;241m.\u001B[39mmodel \u001B[38;5;241m=\u001B[39m model\n",
      "\u001B[0;31mTypeError\u001B[0m: RandomForestModel.fit() missing 1 required positional argument: 'y'"
     ]
    }
   ],
   "source": [
    "rand_f_model = RandomForestModel(**config.MODEL_PARAMS['random_forest'])\n",
    "random_forest_trainer = Trainer(RandomForestModel)\n",
    "random_forest_trainer.train(data_handler.X_train, data_handler.y_train)\n"
   ],
   "metadata": {
    "collapsed": false,
    "ExecuteTime": {
     "end_time": "2024-05-12T18:06:29.963945Z",
     "start_time": "2024-05-12T18:06:29.815737Z"
    }
   },
   "id": "231c5dda4f9d07c8",
   "execution_count": 6
  },
  {
   "cell_type": "code",
   "outputs": [],
   "source": [],
   "metadata": {
    "collapsed": false
   },
   "id": "c0c8a3a9ca34c720"
  }
 ],
 "metadata": {
  "kernelspec": {
   "display_name": "Python 3",
   "language": "python",
   "name": "python3"
  },
  "language_info": {
   "codemirror_mode": {
    "name": "ipython",
    "version": 2
   },
   "file_extension": ".py",
   "mimetype": "text/x-python",
   "name": "python",
   "nbconvert_exporter": "python",
   "pygments_lexer": "ipython2",
   "version": "2.7.6"
  }
 },
 "nbformat": 4,
 "nbformat_minor": 5
}
